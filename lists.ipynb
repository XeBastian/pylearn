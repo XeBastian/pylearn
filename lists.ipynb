{
 "cells": [
  {
   "attachments": {},
   "cell_type": "markdown",
   "metadata": {},
   "source": [
    "# LISTS IN PYTHON"
   ]
  },
  {
   "attachments": {},
   "cell_type": "markdown",
   "metadata": {},
   "source": [
    "In Python, List are the common unpersistent data storage area.\n",
    "\n",
    "Lists can have\n",
    "* String\n",
    "* int\n",
    "* float\n",
    "* list\n",
    "* dictionary \n",
    "and many other data types in it. "
   ]
  },
  {
   "cell_type": "code",
   "execution_count": 1,
   "metadata": {},
   "outputs": [
    {
     "name": "stdout",
     "output_type": "stream",
     "text": [
      "[]\n"
     ]
    }
   ],
   "source": [
    "# constructor \n",
    "names = []\n",
    "print(names)"
   ]
  },
  {
   "cell_type": "code",
   "execution_count": 2,
   "metadata": {},
   "outputs": [
    {
     "name": "stdout",
     "output_type": "stream",
     "text": [
      "DOing better\n"
     ]
    }
   ],
   "source": [
    "if names == []: print('DOing better')\n",
    "else : print(\"Not quite good \")"
   ]
  },
  {
   "attachments": {},
   "cell_type": "markdown",
   "metadata": {},
   "source": [
    "#### Adding items to a list\n"
   ]
  },
  {
   "cell_type": "code",
   "execution_count": 9,
   "metadata": {},
   "outputs": [
    {
     "name": "stdout",
     "output_type": "stream",
     "text": [
      "['Ernest Sebastian', 'Jon Doe', 'Vlad Schavuk']\n"
     ]
    }
   ],
   "source": [
    "names = [\"Ernest Sebastian\", \"Jon Doe\", \"Vlad Schavuk\"]\n",
    "print(names)"
   ]
  },
  {
   "cell_type": "code",
   "execution_count": 12,
   "metadata": {},
   "outputs": [
    {
     "data": {
      "text/plain": [
       "1"
      ]
     },
     "execution_count": 12,
     "metadata": {},
     "output_type": "execute_result"
    }
   ],
   "source": []
  },
  {
   "attachments": {},
   "cell_type": "markdown",
   "metadata": {},
   "source": [
    "# Extensions ::: Searching Through a list"
   ]
  },
  {
   "cell_type": "code",
   "execution_count": 22,
   "metadata": {},
   "outputs": [],
   "source": [
    "class StringExtension:\n",
    "    '''This is an extension for Strings'''\n",
    "    new_list = []\n",
    "    @staticmethod\n",
    "    def contains(string, list):\n",
    "        new_list = \" \".join(list)\n",
    "        # for string in new_list:\n",
    "        return string in new_list\n"
   ]
  },
  {
   "cell_type": "code",
   "execution_count": 27,
   "metadata": {},
   "outputs": [
    {
     "name": "stdout",
     "output_type": "stream",
     "text": [
      "['Ernest Sebastian', 'Jon Doe', 'Vlad Schavuk']\n"
     ]
    }
   ],
   "source": [
    "print(names)"
   ]
  },
  {
   "cell_type": "code",
   "execution_count": 31,
   "metadata": {},
   "outputs": [
    {
     "data": {
      "text/plain": [
       "False"
      ]
     },
     "execution_count": 31,
     "metadata": {},
     "output_type": "execute_result"
    }
   ],
   "source": [
    "\n",
    "StringExtension.contains(\"Dso\", names)"
   ]
  },
  {
   "cell_type": "code",
   "execution_count": 54,
   "metadata": {},
   "outputs": [
    {
     "data": {
      "text/plain": [
       "False"
      ]
     },
     "execution_count": 54,
     "metadata": {},
     "output_type": "execute_result"
    }
   ],
   "source": [
    "(False and not True) and ( True and True)\n",
    "\n",
    "# False and True\n",
    "\n",
    "\n",
    "# False and False"
   ]
  },
  {
   "cell_type": "code",
   "execution_count": 62,
   "metadata": {},
   "outputs": [
    {
     "data": {
      "text/plain": [
       "['Brandon',\n",
       " 'Brandon',\n",
       " 'Brandon',\n",
       " 'Brandon',\n",
       " 'Brandon',\n",
       " 'Brandon',\n",
       " 'Brandon',\n",
       " 'Ernest Sebastian',\n",
       " 'Jane',\n",
       " 'Jane',\n",
       " 'Jane',\n",
       " 'Jane',\n",
       " 'Jane',\n",
       " 'Jane',\n",
       " 'Jane',\n",
       " 'Jon Doe',\n",
       " 'Ryan',\n",
       " 'Ryan',\n",
       " 'Ryan',\n",
       " 'Ryan',\n",
       " 'Ryan',\n",
       " 'Ryan',\n",
       " 'Ryan',\n",
       " 'Vlad Schavuk']"
      ]
     },
     "execution_count": 62,
     "metadata": {},
     "output_type": "execute_result"
    }
   ],
   "source": [
    "names.extend([\"Jane\", \"Brandon\",\"Ryan\"])\n",
    "\n",
    "names.sort()\n",
    "names"
   ]
  },
  {
   "cell_type": "markdown",
   "metadata": {},
   "source": []
  }
 ],
 "metadata": {
  "kernelspec": {
   "display_name": "Python 3",
   "language": "python",
   "name": "python3"
  },
  "language_info": {
   "codemirror_mode": {
    "name": "ipython",
    "version": 3
   },
   "file_extension": ".py",
   "mimetype": "text/x-python",
   "name": "python",
   "nbconvert_exporter": "python",
   "pygments_lexer": "ipython3",
   "version": "3.11.4"
  },
  "orig_nbformat": 4
 },
 "nbformat": 4,
 "nbformat_minor": 2
}
