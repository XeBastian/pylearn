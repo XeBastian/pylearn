{
 "cells": [
  {
   "attachments": {},
   "cell_type": "markdown",
   "metadata": {},
   "source": [
    "# Python Introduction"
   ]
  },
  {
   "attachments": {},
   "cell_type": "markdown",
   "metadata": {},
   "source": [
    "## Data types"
   ]
  },
  {
   "attachments": {},
   "cell_type": "markdown",
   "metadata": {},
   "source": [
    "### String Data type"
   ]
  },
  {
   "attachments": {},
   "cell_type": "markdown",
   "metadata": {},
   "source": [
    "#### Len"
   ]
  },
  {
   "attachments": {},
   "cell_type": "markdown",
   "metadata": {},
   "source": [
    "'String' is often symbolized as 'str' in python\n",
    "\n",
    "All methods from the str class will begin with str \n",
    "\n",
    "    example : \n",
    "\n",
    "    a = 'Hello World'\n",
    "\n",
    "    len(a) will produce an integer result 11"
   ]
  },
  {
   "cell_type": "code",
   "execution_count": 3,
   "metadata": {},
   "outputs": [
    {
     "data": {
      "text/plain": [
       "11"
      ]
     },
     "execution_count": 3,
     "metadata": {},
     "output_type": "execute_result"
    }
   ],
   "source": [
    "a = 'Hello World'\n",
    "len(a)"
   ]
  },
  {
   "attachments": {},
   "cell_type": "markdown",
   "metadata": {},
   "source": [
    "In the above, a is the varible name and Hello, world is our STring literal.\n",
    "\n",
    "to make it return the desired output we enclose it in the double quotes. ''\n",
    "\n",
    "len return an integer of the length of your item."
   ]
  },
  {
   "attachments": {},
   "cell_type": "markdown",
   "metadata": {},
   "source": [
    "#### Sort and split"
   ]
  },
  {
   "cell_type": "code",
   "execution_count": 23,
   "metadata": {},
   "outputs": [
    {
     "name": "stdout",
     "output_type": "stream",
     "text": [
      "hello\n",
      "['first', 'second', 'jhird']\n",
      "['first', 'jhird', 'second']\n",
      "is just as  first\n",
      "is just as  jhird\n",
      "is just as  second\n"
     ]
    },
    {
     "data": {
      "text/plain": [
       "3"
      ]
     },
     "execution_count": 23,
     "metadata": {},
     "output_type": "execute_result"
    }
   ],
   "source": [
    "a = []\n",
    "if []: print('Howday') \n",
    "else: print('hello')\n",
    "a = [\"first\", \"second\", \"jhird\"]\n",
    "\n",
    "print(a)\n",
    "a.sort()\n",
    "print(a)\n",
    "for i in a:\n",
    "    print(\"is just as \", format(i))\n",
    "len(a)\n"
   ]
  },
  {
   "attachments": {},
   "cell_type": "markdown",
   "metadata": {},
   "source": [
    "# RECAP OF PYTHON DATA TYPES"
   ]
  },
  {
   "attachments": {},
   "cell_type": "markdown",
   "metadata": {},
   "source": [
    "## String"
   ]
  },
  {
   "cell_type": "code",
   "execution_count": 24,
   "metadata": {},
   "outputs": [
    {
     "name": "stdout",
     "output_type": "stream",
     "text": [
      "I am a String\n"
     ]
    }
   ],
   "source": [
    "# printing directly\n",
    "print('I am a String')"
   ]
  },
  {
   "cell_type": "code",
   "execution_count": 25,
   "metadata": {},
   "outputs": [
    {
     "name": "stdout",
     "output_type": "stream",
     "text": [
      "Ernest Sebastian\n"
     ]
    }
   ],
   "source": [
    "# using variables\n",
    "name = \"Ernest Sebastian\"\n",
    "print(name)"
   ]
  },
  {
   "cell_type": "code",
   "execution_count": 30,
   "metadata": {},
   "outputs": [
    {
     "name": "stdout",
     "output_type": "stream",
     "text": [
      "Welcome Ernest Sebastian, you are a good person.\n"
     ]
    }
   ],
   "source": [
    "# Formatting Strings\n",
    "\n",
    "name = input(\"Enter your name\")\n",
    "surname = input(f\"Enter your surname {name}\")\n",
    "print(f\"Welcome {name} {surname}, you are a good person.\")"
   ]
  },
  {
   "attachments": {},
   "cell_type": "markdown",
   "metadata": {},
   "source": [
    "I like the above as it offers you an ideal way of concatenating 2 or more strings in one line whilst being clean"
   ]
  },
  {
   "cell_type": "code",
   "execution_count": null,
   "metadata": {},
   "outputs": [],
   "source": []
  }
 ],
 "metadata": {
  "kernelspec": {
   "display_name": "Python 3",
   "language": "python",
   "name": "python3"
  },
  "language_info": {
   "codemirror_mode": {
    "name": "ipython",
    "version": 3
   },
   "file_extension": ".py",
   "mimetype": "text/x-python",
   "name": "python",
   "nbconvert_exporter": "python",
   "pygments_lexer": "ipython3",
   "version": "3.11.4"
  },
  "orig_nbformat": 4
 },
 "nbformat": 4,
 "nbformat_minor": 2
}
