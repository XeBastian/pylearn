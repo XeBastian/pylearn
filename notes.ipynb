{
 "cells": [
  {
   "attachments": {},
   "cell_type": "markdown",
   "metadata": {},
   "source": [
    "# Python Introduction"
   ]
  },
  {
   "attachments": {},
   "cell_type": "markdown",
   "metadata": {},
   "source": [
    "## Data types"
   ]
  },
  {
   "attachments": {},
   "cell_type": "markdown",
   "metadata": {},
   "source": [
    "### String Data type"
   ]
  },
  {
   "attachments": {},
   "cell_type": "markdown",
   "metadata": {},
   "source": [
    "#### Len"
   ]
  },
  {
   "attachments": {},
   "cell_type": "markdown",
   "metadata": {},
   "source": [
    "'String' is often symbolized as 'str' in python\n",
    "\n",
    "All methods from the str class will begin with str \n",
    "\n",
    "    example : \n",
    "\n",
    "    a = 'Hello World'\n",
    "\n",
    "    len(a) will produce an integer result 11"
   ]
  },
  {
   "cell_type": "code",
   "execution_count": 12,
   "metadata": {},
   "outputs": [
    {
     "data": {
      "text/plain": [
       "11"
      ]
     },
     "execution_count": 12,
     "metadata": {},
     "output_type": "execute_result"
    }
   ],
   "source": [
    "import re\n",
    "\n",
    "a = 'Hello World'\n",
    "len(a)"
   ]
  },
  {
   "attachments": {},
   "cell_type": "markdown",
   "metadata": {},
   "source": [
    "In the above, a is the varible name and Hello, world is our STring literal.\n",
    "\n",
    "to make it return the desired output we enclose it in the double quotes. ''\n",
    "\n",
    "len return an integer of the length of your item."
   ]
  },
  {
   "attachments": {},
   "cell_type": "markdown",
   "metadata": {},
   "source": [
    "#### Sort and split"
   ]
  },
  {
   "cell_type": "code",
   "execution_count": 23,
   "metadata": {},
   "outputs": [
    {
     "name": "stdout",
     "output_type": "stream",
     "text": [
      "hello\n",
      "['first', 'second', 'jhird']\n",
      "['first', 'jhird', 'second']\n",
      "is just as  first\n",
      "is just as  jhird\n",
      "is just as  second\n"
     ]
    },
    {
     "data": {
      "text/plain": [
       "3"
      ]
     },
     "execution_count": 23,
     "metadata": {},
     "output_type": "execute_result"
    }
   ],
   "source": [
    "a = []\n",
    "if []: print('Howday') \n",
    "else: print('hello')\n",
    "a = [\"first\", \"second\", \"jhird\"]\n",
    "\n",
    "print(a)\n",
    "a.sort()\n",
    "print(a)\n",
    "for i in a:\n",
    "    print(\"is just as \", format(i))\n",
    "len(a)\n"
   ]
  },
  {
   "attachments": {},
   "cell_type": "markdown",
   "metadata": {},
   "source": [
    "## Split"
   ]
  },
  {
   "cell_type": "code",
   "execution_count": 11,
   "metadata": {},
   "outputs": [
    {
     "name": "stdout",
     "output_type": "stream",
     "text": [
      "Besides your name, you also have to add your age to it\n",
      "3\n"
     ]
    }
   ],
   "source": [
    "# Split divides 1 string into 2 mutable strings\n",
    "name_desc = \"Besides your name, you also have to add your age to it. In that case everything we do, is safe and better. ANyway, how old are you at the moment?\"\n",
    "items = []\n",
    "items = name_desc.split(sep='.')\n",
    "for item in items:\n",
    "    if(str(item.lower()).startswith('B'.lower())):\n",
    "        print(item)\n",
    "    # else:\n",
    "        # print(\"\")\n",
    "print(len(items))"
   ]
  },
  {
   "attachments": {},
   "cell_type": "markdown",
   "metadata": {},
   "source": [
    "### Strip()"
   ]
  },
  {
   "cell_type": "code",
   "execution_count": 27,
   "metadata": {},
   "outputs": [
    {
     "name": "stdout",
     "output_type": "stream",
     "text": [
      "21\n",
      "21\n",
      "  Ernest Sebastian                            \n"
     ]
    }
   ],
   "source": [
    "#String strip\n",
    "#Imagine you have a form that takes in users name and/password password.\n",
    "# certainly you dont want a username with spaces at the end as it poses formatting issues whenever you want to use that say in 100 places in your app.\n",
    "# stripping the blanks at the end or beginning of the string is a better solution to this.\n",
    "# However using ReGex is also possible to achieve the same\n",
    "'''\n",
    "\n",
    "REGEX EXAMPLE\n",
    "string = re.sub(r'\\W+', ' ', input_string)\n",
    "\n",
    "''' \n",
    "input_string = \"    Hello world      \"\n",
    "print(len(input_string))\n",
    "string = re.sub(r'\\W+', '', input_string)\n",
    "print(len(input_string))\n",
    "\n",
    "names = \"  Ernest Sebastian                            \"\n",
    "  \n",
    "names.replace('  ', \"s\",2)\n",
    "print( names)"
   ]
  },
  {
   "attachments": {},
   "cell_type": "markdown",
   "metadata": {},
   "source": [
    "# RECAP OF PYTHON DATA TYPES"
   ]
  },
  {
   "attachments": {},
   "cell_type": "markdown",
   "metadata": {},
   "source": [
    "## String"
   ]
  },
  {
   "cell_type": "code",
   "execution_count": 24,
   "metadata": {},
   "outputs": [
    {
     "name": "stdout",
     "output_type": "stream",
     "text": [
      "I am a String\n"
     ]
    }
   ],
   "source": [
    "# printing directly\n",
    "print('I am a String')"
   ]
  },
  {
   "cell_type": "code",
   "execution_count": 25,
   "metadata": {},
   "outputs": [
    {
     "name": "stdout",
     "output_type": "stream",
     "text": [
      "Ernest Sebastian\n"
     ]
    }
   ],
   "source": [
    "# using variables\n",
    "name = \"Ernest Sebastian\"\n",
    "print(name)"
   ]
  },
  {
   "cell_type": "code",
   "execution_count": 30,
   "metadata": {},
   "outputs": [
    {
     "name": "stdout",
     "output_type": "stream",
     "text": [
      "Welcome Ernest Sebastian, you are a good person.\n"
     ]
    }
   ],
   "source": [
    "# Formatting Strings\n",
    "\n",
    "name = input(\"Enter your name\")\n",
    "surname = input(f\"Enter your surname {name}\")\n",
    "print(f\"Welcome {name} {surname}, you are a good person.\")"
   ]
  },
  {
   "attachments": {},
   "cell_type": "markdown",
   "metadata": {},
   "source": [
    "I like the above as it offers you an ideal way of concatenating 2 or more strings in one line whilst being clean"
   ]
  },
  {
   "cell_type": "code",
   "execution_count": null,
   "metadata": {},
   "outputs": [],
   "source": [
    "# Another useful comman"
   ]
  }
 ],
 "metadata": {
  "kernelspec": {
   "display_name": "Python 3",
   "language": "python",
   "name": "python3"
  },
  "language_info": {
   "codemirror_mode": {
    "name": "ipython",
    "version": 3
   },
   "file_extension": ".py",
   "mimetype": "text/x-python",
   "name": "python",
   "nbconvert_exporter": "python",
   "pygments_lexer": "ipython3",
   "version": "3.11.4"
  },
  "orig_nbformat": 4
 },
 "nbformat": 4,
 "nbformat_minor": 2
}
